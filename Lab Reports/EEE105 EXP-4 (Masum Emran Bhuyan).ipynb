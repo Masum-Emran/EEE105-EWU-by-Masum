{
 "cells": [
  {
   "cell_type": "markdown",
   "id": "c5f28f4f",
   "metadata": {},
   "source": [
    "Post-Lab Activity Report (PAR)\n",
    "\n",
    "Course Code: EEE 105 (Computer Programming) Section: 2\n",
    "\n",
    "Experiment-04 Nested Loops.\n",
    "\n",
    "Submitted by: Masum Emran Bhuyan (2024-3-80-013)\n",
    "\n",
    "Submitted to: MMAI\n",
    "\n",
    "Date: 2 August, 2025\n"
   ]
  },
  {
   "cell_type": "markdown",
   "id": "16ecb5d4",
   "metadata": {},
   "source": [
    "#"
   ]
  },
  {
   "cell_type": "markdown",
   "id": "10149673",
   "metadata": {},
   "source": [
    "#"
   ]
  },
  {
   "cell_type": "markdown",
   "id": "1072b06f",
   "metadata": {},
   "source": [
    "# Problem 1:"
   ]
  },
  {
   "cell_type": "markdown",
   "id": "f604892b",
   "metadata": {},
   "source": [
    "### Test Data#1:"
   ]
  },
  {
   "cell_type": "code",
   "execution_count": null,
   "id": "e380606c",
   "metadata": {},
   "outputs": [
    {
     "name": "stdout",
     "output_type": "stream",
     "text": [
      "sin(3.14) = 0.008479830572942215\n"
     ]
    }
   ],
   "source": [
    "#adding inputs and defining needed values:\n",
    "x = float(input(\"Enter x: \"))\n",
    "n = int(input(\"Enter n: \"))\n",
    "\n",
    "sin_x = 0\n",
    "sign = 1  \n",
    "factorial = 1  \n",
    "power = x  \n",
    "\n",
    "#adding the necessary loops and calculations:\n",
    "for i in range(1, n + 1):\n",
    "    \n",
    "    if i % 2 == 0:\n",
    "        continue\n",
    "    \n",
    "    \n",
    "    factorial = 1\n",
    "    for a in range(1, i + 1):\n",
    "        factorial *= a\n",
    "    \n",
    "    sin_x += sign * (power / factorial)\n",
    "    power *= x * x \n",
    "    sign *= -1  \n",
    "\n",
    "#output:\n",
    "print(f\"sin({x}) = {sin_x}\")\n"
   ]
  },
  {
   "cell_type": "markdown",
   "id": "8940e130",
   "metadata": {},
   "source": [
    "### Test Data#2:"
   ]
  },
  {
   "cell_type": "code",
   "execution_count": 10,
   "id": "cddcbe7e",
   "metadata": {},
   "outputs": [
    {
     "name": "stdout",
     "output_type": "stream",
     "text": [
      "sin(1.57) = 1.0045086604641666\n"
     ]
    }
   ],
   "source": [
    "#adding inputs and defining needed values:\n",
    "x = float(input(\"Enter x: \"))\n",
    "n = int(input(\"Enter n: \"))\n",
    "\n",
    "sin_x = 0\n",
    "sign = 1  \n",
    "factorial = 1  \n",
    "power = x  \n",
    "\n",
    "#adding the necessary loops and calculations:\n",
    "for i in range(1, n + 1):\n",
    "    \n",
    "    if i % 2 == 0:\n",
    "        continue\n",
    "    \n",
    "    \n",
    "    factorial = 1\n",
    "    for a in range(1, i + 1):\n",
    "        factorial *= a\n",
    "    \n",
    "    sin_x += sign * (power / factorial)\n",
    "    power *= x * x \n",
    "    sign *= -1  \n",
    "\n",
    "#output:\n",
    "print(f\"sin({x}) = {sin_x}\")\n"
   ]
  },
  {
   "cell_type": "markdown",
   "id": "9824de55",
   "metadata": {},
   "source": [
    "#### Edge test cases:\n",
    "Extreamly large values of x or n will slow the program and may even cause crashes. Negative or word values for them will result in value error."
   ]
  },
  {
   "cell_type": "markdown",
   "id": "2d235041",
   "metadata": {},
   "source": [
    "#### Comment:\n",
    "\"float\" datatype is taken as input for x because the scores can be decimal numbers. \"int\" is taken for n to maintain integers. This code calculates the sine of a given angle x using Taylor series up to n. The series only includes odd-powered values. For loop is used to maintain proper conditions. In the program, we also used if-else statements for conditional execution, testing if given condition is true or false."
   ]
  },
  {
   "cell_type": "markdown",
   "id": "58c49858",
   "metadata": {},
   "source": [
    " #"
   ]
  },
  {
   "cell_type": "markdown",
   "id": "b9cc56af",
   "metadata": {},
   "source": [
    " #"
   ]
  },
  {
   "cell_type": "markdown",
   "id": "4ff7ba6c",
   "metadata": {},
   "source": [
    "# Problem 2:"
   ]
  },
  {
   "cell_type": "markdown",
   "id": "14df11f1",
   "metadata": {},
   "source": [
    "### Test Data#1:"
   ]
  },
  {
   "cell_type": "code",
   "execution_count": null,
   "id": "7ca9a44f",
   "metadata": {},
   "outputs": [
    {
     "name": "stdout",
     "output_type": "stream",
     "text": [
      "Zeros: 2, Positives: 4, Negatives: 3\n"
     ]
    }
   ],
   "source": [
    "#input from the user\n",
    "n = int(input(\"Enter number of elements: \"))\n",
    "\n",
    "pos = 0\n",
    "neg = 0\n",
    "zero = 0\n",
    "\n",
    "#loop to count positive, negative and zero numbers\n",
    "for num in range(n):\n",
    "    num = float(input(\"Enter number: \"))\n",
    "    \n",
    "    if num > 0:\n",
    "        pos += 1\n",
    "    elif num < 0:\n",
    "        neg += 1\n",
    "    else:\n",
    "        zero += 1\n",
    "#output:\n",
    "print(f\"Zeros: {zero}, Positives: {pos}, Negatives: {neg}\")\n"
   ]
  },
  {
   "cell_type": "markdown",
   "id": "670b38da",
   "metadata": {},
   "source": [
    "#### Edge test cases:\n",
    "The inputs must be integer numbers as mentioned. If n is negative, the loop will show error. If a non-numeric value is entered, the program crashes.\n"
   ]
  },
  {
   "cell_type": "markdown",
   "id": "bd9d1e8a",
   "metadata": {},
   "source": [
    "#### Comment:\n",
    "This code counts the number of positive, negative, and zero values entered by the user. It first prompts the user to enter the number of elements they want to input. Using a for loop, it reads each number, checks whether it is greater than, less than, or equal to zero In the program. Then it evaluates the other conditions that define if numbers are positive or negative. Finally, it prints the counts of zeros, positives, and negatives. we used if-elif-else statements for conditional execution, testing if given condition is true or false."
   ]
  },
  {
   "cell_type": "markdown",
   "id": "9aad7698",
   "metadata": {},
   "source": [
    "#   "
   ]
  },
  {
   "cell_type": "markdown",
   "id": "736198ab",
   "metadata": {},
   "source": [
    "#"
   ]
  },
  {
   "cell_type": "markdown",
   "id": "1e6cc5e3",
   "metadata": {},
   "source": [
    "# Problem 3:"
   ]
  },
  {
   "cell_type": "markdown",
   "id": "6d09435e",
   "metadata": {},
   "source": [
    "### Test Data#1:"
   ]
  },
  {
   "cell_type": "code",
   "execution_count": 14,
   "id": "629d4300",
   "metadata": {},
   "outputs": [
    {
     "name": "stdout",
     "output_type": "stream",
     "text": [
      "Sum = 6\n"
     ]
    }
   ],
   "source": [
    "#input from the user\n",
    "n = int(input(\"Enter number of terms: \"))\n",
    "sum = 0\n",
    "\n",
    "#loop to calculate the sum of series\n",
    "for i in range(n):\n",
    "    for j in range(i + 1):\n",
    "        sum = sum + 1 \n",
    "#output:\n",
    "print(f\"Sum = {sum}\")\n"
   ]
  },
  {
   "cell_type": "markdown",
   "id": "9cc7177b",
   "metadata": {},
   "source": [
    "### Test Data#2:"
   ]
  },
  {
   "cell_type": "code",
   "execution_count": 18,
   "id": "7041ed91",
   "metadata": {},
   "outputs": [
    {
     "name": "stdout",
     "output_type": "stream",
     "text": [
      "Sum = 21\n"
     ]
    }
   ],
   "source": [
    "#input from the user\n",
    "n = int(input(\"Enter number of terms: \"))\n",
    "sum = 0\n",
    "\n",
    "#loop to calculate the sum of series\n",
    "for i in range(n):\n",
    "    for j in range(i + 1):\n",
    "        sum = sum + 1 \n",
    "#output:\n",
    "print(f\"Sum = {sum}\")"
   ]
  },
  {
   "cell_type": "markdown",
   "id": "bbca2420",
   "metadata": {},
   "source": [
    "#### Edge test cases:\n",
    "The inputs must be integer numbers as mentioned. If n is negative, the loop will show error. If a non-numeric value is entered, the program crashes. Also very large values of n might slow down the program.\n"
   ]
  },
  {
   "cell_type": "markdown",
   "id": "a19619c5",
   "metadata": {},
   "source": [
    "#### Comment:\n",
    "This code calculates the sum of a triangular number series using nested loops. It first takes an integer input n representing the number of terms, then two nested for loops calculate the0 total sum of the series. The input must be non zero integer number."
   ]
  }
 ],
 "metadata": {
  "kernelspec": {
   "display_name": "Python 3",
   "language": "python",
   "name": "python3"
  },
  "language_info": {
   "codemirror_mode": {
    "name": "ipython",
    "version": 3
   },
   "file_extension": ".py",
   "mimetype": "text/x-python",
   "name": "python",
   "nbconvert_exporter": "python",
   "pygments_lexer": "ipython3",
   "version": "3.12.10"
  }
 },
 "nbformat": 4,
 "nbformat_minor": 5
}
