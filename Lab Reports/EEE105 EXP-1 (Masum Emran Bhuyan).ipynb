{
 "cells": [
  {
   "cell_type": "markdown",
   "id": "68a63618",
   "metadata": {},
   "source": [
    "Post-Lab Activity Report (PAR)\n",
    "\n",
    "Course Code: EEE 105 (Computer Programming) Section: 2\n",
    "\n",
    "Experiment-01 Input, Output and Arithmatical expressions.\n",
    "\n",
    "Submitted by: Masum Emran Bhuyan (2024-3-80-013)\n",
    "\n",
    "Submitted to: MMAI\n",
    "\n",
    "Date: 5 July, 2025\n"
   ]
  },
  {
   "cell_type": "markdown",
   "id": "cc2fa260",
   "metadata": {},
   "source": [
    "# Problem 1:"
   ]
  },
  {
   "cell_type": "markdown",
   "id": "9bd6b54f",
   "metadata": {},
   "source": [
    "### Test Data#1:"
   ]
  },
  {
   "cell_type": "code",
   "execution_count": 1,
   "id": "cc85e9c4",
   "metadata": {},
   "outputs": [
    {
     "name": "stdout",
     "output_type": "stream",
     "text": [
      "Total Bonus: 8000.0, Total Commission: 5200.0, GrossSalary: 48200.0\n"
     ]
    }
   ],
   "source": [
    "ComputerPrice = float(input(\"Enter the price of the computer:\"))\n",
    "ComputerSoldpPerMonth = int(input(\"Enter the number of computers sold per month:\"))\n",
    "TotalSales = ComputerPrice * ComputerSoldpPerMonth\n",
    "CommissionRate = 0.01\n",
    "Commission = TotalSales * CommissionRate\n",
    "Bonus = float(ComputerSoldpPerMonth * 1000)\n",
    "BaseSalary = 35000.00\n",
    "GrossSalary = BaseSalary + Commission + Bonus \n",
    "print(f\"Total Bonus: {Bonus}, Total Commission: {Commission}, GrossSalary: {GrossSalary}\" )\n"
   ]
  },
  {
   "cell_type": "markdown",
   "id": "3aa97fac",
   "metadata": {},
   "source": [
    "### Test Data#2"
   ]
  },
  {
   "cell_type": "code",
   "execution_count": 2,
   "id": "e31cb217",
   "metadata": {},
   "outputs": [
    {
     "name": "stdout",
     "output_type": "stream",
     "text": [
      "Total Bonus: 2000.0, Total Commission: 200.0, GrossSalary: 37200.0\n"
     ]
    }
   ],
   "source": [
    "ComputerPrice = float(input(\"Enter the price of the computer:\"))\n",
    "ComputerSoldpPerMonth = int(input(\"Enter the number of computers sold per month:\"))\n",
    "TotalSales = ComputerPrice * ComputerSoldpPerMonth\n",
    "CommissionRate = 0.01\n",
    "Commission = TotalSales * CommissionRate\n",
    "Bonus = float(ComputerSoldpPerMonth * 1000)\n",
    "BaseSalary = 35000.00\n",
    "GrossSalary = BaseSalary + Commission + Bonus \n",
    "print(f\"Total Bonus: {Bonus}, Total Commission: {Commission}, GrossSalary: {GrossSalary}\" )\n"
   ]
  },
  {
   "cell_type": "markdown",
   "id": "7ebf8306",
   "metadata": {},
   "source": [
    "#### Comment:\n",
    "Here two outputs for the code are shown from two different test datas. The price of the computers (ComputerPrice) and the number of computers sold (ComputerSoldpPerMonth) are set as inputs.  For ComputerPrice \"float\" data type is used because prices can be decimal numbers and for ComputerSoldpPerMonth \"int\" data type is used because the number of computers sold will always be integer number. Then, Total sales is set as the multiplication of ComputerPrice and ComputerSoldPerMonth. Then the comission rate is set as 1% of total sales. Also, the bonus is set in float for 1000 multiplied by every computer sold. and the Base salary is fixed at 35000. Finally, the expected output is achived which shows a print for Total bonus, total comission and Gross salary."
   ]
  },
  {
   "cell_type": "markdown",
   "id": "4e66aa07",
   "metadata": {},
   "source": [
    "#"
   ]
  },
  {
   "cell_type": "markdown",
   "id": "199fae10",
   "metadata": {},
   "source": [
    "#"
   ]
  },
  {
   "cell_type": "markdown",
   "id": "86ab0032",
   "metadata": {},
   "source": [
    "# Problem 2:"
   ]
  },
  {
   "cell_type": "code",
   "execution_count": 3,
   "id": "b23941ed",
   "metadata": {},
   "outputs": [
    {
     "name": "stdout",
     "output_type": "stream",
     "text": [
      "Hello Temp. You are 25 years old, and your weight is 81.4 pounds.\n"
     ]
    }
   ],
   "source": [
    "Name = input(\"Enter Name:\")\n",
    "BirthYear = int(input(\"Enter Birth Year:\"))\n",
    "CurrentYear = 2025\n",
    "weightkg = float(input(\"Enter Weight in kg:\"))\n",
    "Age = CurrentYear - BirthYear\n",
    "Weightlb = weightkg * 2.2\n",
    "print(f\"Hello {Name}. You are {Age} years old, and your weight is {Weightlb} pounds.\")"
   ]
  },
  {
   "cell_type": "markdown",
   "id": "55bcd704",
   "metadata": {},
   "source": [
    "#### Comment:\n",
    "Name, birth year, current year and weight in kg are set as input in the code. Birth year and current year are set as \"int\" data type to maintain integer outputs. Weight on the other hand is set as \"float\" data type because it can be a decimal number. The current year is set as 2025 so the program will only show correct output in the year 2025. The age is calculated by substracting birthyear from current year. And the weight is converted from kg to pounds by multiplying 2.2 with weight in kg. Finally we get the expected output that says, \"Hello Temp. You are 25 years old, and your weight is 81.4 pounds.\" "
   ]
  }
 ],
 "metadata": {
  "kernelspec": {
   "display_name": "Python 3",
   "language": "python",
   "name": "python3"
  },
  "language_info": {
   "codemirror_mode": {
    "name": "ipython",
    "version": 3
   },
   "file_extension": ".py",
   "mimetype": "text/x-python",
   "name": "python",
   "nbconvert_exporter": "python",
   "pygments_lexer": "ipython3",
   "version": "3.13.5"
  }
 },
 "nbformat": 4,
 "nbformat_minor": 5
}
