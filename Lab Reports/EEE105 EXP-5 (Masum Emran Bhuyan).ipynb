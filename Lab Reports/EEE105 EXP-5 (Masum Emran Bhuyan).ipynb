{
 "cells": [
  {
   "cell_type": "markdown",
   "id": "c5f28f4f",
   "metadata": {},
   "source": [
    "Post-Lab Activity Report (PAR)\n",
    "\n",
    "Course Code: EEE 105 (Computer Programming) Section: 2\n",
    "\n",
    "Experiment-05 Lists.\n",
    "\n",
    "Submitted by: Masum Emran Bhuyan (2024-3-80-013)\n",
    "\n",
    "Submitted to: MMAI\n",
    "\n",
    "Date: 13 August, 2025\n"
   ]
  },
  {
   "cell_type": "markdown",
   "id": "16ecb5d4",
   "metadata": {},
   "source": [
    "#"
   ]
  },
  {
   "cell_type": "markdown",
   "id": "10149673",
   "metadata": {},
   "source": [
    "#"
   ]
  },
  {
   "cell_type": "markdown",
   "id": "1072b06f",
   "metadata": {},
   "source": [
    "# Problem 1:"
   ]
  },
  {
   "cell_type": "code",
   "execution_count": 20,
   "id": "ed1e33a4",
   "metadata": {},
   "outputs": [],
   "source": [
    "#define a function for the list\n",
    "def find_minmax(numbers):\n",
    "    # Check if the list is empty\n",
    "    if len(numbers) == 0:\n",
    "        # print output if the list is empty\n",
    "        print(\"No numbers provided.\")\n",
    "        return None, None\n",
    "\n",
    "    # Initialize smallest and largest with the first element\n",
    "    smallest = largest = numbers[0]\n",
    "\n",
    "    #check each number in the list\n",
    "    for num in numbers:\n",
    "        if num <= smallest:\n",
    "            smallest = num\n",
    "        elif num >= largest:\n",
    "            largest = num\n",
    "    return smallest, largest"
   ]
  },
  {
   "cell_type": "markdown",
   "id": "f604892b",
   "metadata": {},
   "source": [
    "### Test Data#1:"
   ]
  },
  {
   "cell_type": "code",
   "execution_count": null,
   "id": "e380606c",
   "metadata": {},
   "outputs": [
    {
     "name": "stdout",
     "output_type": "stream",
     "text": [
      "Smallest = 68.23, Largest = 68.23\n"
     ]
    }
   ],
   "source": [
    "#add the list\n",
    "A = [68.23, 84.4, 108.3, 69.35, 63.04, 83.83, 37.82, 22.22, 72.22, 70.47, 72.87, 75.18, 65.08, 45.09, 87.69]\n",
    "\n",
    "# find the smallest and largest numbers in the list\n",
    "smallest, largest = find_minmax(A)\n",
    "\n",
    "# print the output\n",
    "print(f\"Smallest = {smallest}, Largest = {largest}\")"
   ]
  },
  {
   "cell_type": "markdown",
   "id": "8940e130",
   "metadata": {},
   "source": [
    "### Test Data#2:"
   ]
  },
  {
   "cell_type": "code",
   "execution_count": 23,
   "id": "cddcbe7e",
   "metadata": {},
   "outputs": [
    {
     "name": "stdout",
     "output_type": "stream",
     "text": [
      "Smallest = 20, Largest = 114\n"
     ]
    }
   ],
   "source": [
    "#add the list\n",
    "B = [20, 33, 104, 41, 65, 80, 20, 26, 90, 114, 69, 64, 85, 94, 104]\n",
    "\n",
    "# find the smallest and largest numbers in the list\n",
    "smallest, largest = find_minmax(B)\n",
    "\n",
    "# print the output\n",
    "print(f\"Smallest = {smallest}, Largest = {largest}\")\n"
   ]
  },
  {
   "cell_type": "markdown",
   "id": "9824de55",
   "metadata": {},
   "source": [
    "#### Edge test cases:\n",
    "The program returns same value for smallest and largest if the list contains only one number or the same numbers. The program runs perfectly even if the list contains negatives, mixed and even both float and integer numbers."
   ]
  },
  {
   "cell_type": "markdown",
   "id": "2d235041",
   "metadata": {},
   "source": [
    "#### Comment:\n",
    "The find_minmax function takes a list of numbers as input. The program first checks if the list is empty. If empty it gives an output. It initializes both smallest and largest with the first element of the list. If it finds a number smaller than the current smallest, it updates smallest and if it finds a number larger than the current largest, it updates largest. Finally, it gives output for both the smallest and largest values found."
   ]
  },
  {
   "cell_type": "markdown",
   "id": "58c49858",
   "metadata": {},
   "source": [
    " #"
   ]
  },
  {
   "cell_type": "markdown",
   "id": "b9cc56af",
   "metadata": {},
   "source": [
    " #"
   ]
  },
  {
   "cell_type": "markdown",
   "id": "4ff7ba6c",
   "metadata": {},
   "source": [
    "# Problem 2:"
   ]
  },
  {
   "cell_type": "markdown",
   "id": "14df11f1",
   "metadata": {},
   "source": [
    "### Test Data#1:"
   ]
  },
  {
   "cell_type": "code",
   "execution_count": 53,
   "id": "7ca9a44f",
   "metadata": {},
   "outputs": [
    {
     "name": "stdout",
     "output_type": "stream",
     "text": [
      "Ascending_list = [1, 2, 2, 4, 5, 7, 9]\n",
      "Descending_list = [9, 7, 5, 4, 2, 2, 1]\n"
     ]
    }
   ],
   "source": [
    "def sort_list(numbers):\n",
    "    # Check if the list is empty\n",
    "    if len(numbers) == 0:\n",
    "        print(\"No numbers provided.\")\n",
    "        return None\n",
    "\n",
    "    # Sort the list in ascending and descending order\n",
    "    ascending = sorted(numbers)  \n",
    "    descending = sorted(numbers, reverse=True)  \n",
    "    return ascending, descending\n",
    "\n",
    "# Test data\n",
    "A = [2, 7, 4, 5, 9, 1, 2]\n",
    "\n",
    "# define the lists\n",
    "asc_list, desc_list = sort_list(A)\n",
    "\n",
    "# outputs\n",
    "print(f\"Ascending_list = {asc_list}\")\n",
    "print(f\"Descending_list = {desc_list}\")\n"
   ]
  },
  {
   "cell_type": "markdown",
   "id": "670b38da",
   "metadata": {},
   "source": [
    "#### Edge test cases:\n",
    "The program says no number is provided if the list is empty. The program runs perfectly even if the list contains negatives, mixed and even both float and integer numbers."
   ]
  },
  {
   "cell_type": "markdown",
   "id": "bd9d1e8a",
   "metadata": {},
   "source": [
    "#### Comment:\n",
    "This code gives the output for ascending and descending lists from a list. After defining the list, sorted() function is used to sort the list as ascending order. Then, for descending order we just reversed the sorted numbers. Thus, perfect output as per the conditions is achieved."
   ]
  },
  {
   "cell_type": "markdown",
   "id": "9aad7698",
   "metadata": {},
   "source": [
    "#   "
   ]
  },
  {
   "cell_type": "markdown",
   "id": "736198ab",
   "metadata": {},
   "source": [
    "#"
   ]
  },
  {
   "cell_type": "markdown",
   "id": "1e6cc5e3",
   "metadata": {},
   "source": [
    "# Problem 3:"
   ]
  },
  {
   "cell_type": "markdown",
   "id": "6d09435e",
   "metadata": {},
   "source": [
    "### Test Data#1:"
   ]
  },
  {
   "cell_type": "code",
   "execution_count": 54,
   "id": "629d4300",
   "metadata": {},
   "outputs": [
    {
     "name": "stdout",
     "output_type": "stream",
     "text": [
      "M = [3, 15, 0, 16]\n"
     ]
    }
   ],
   "source": [
    "def elementwise_multiply(list1, list2):\n",
    "\n",
    "    #check if the lists are empty\n",
    "    if len(list1) == 0 or len(list2) == 0:\n",
    "        print(\"One or both lists are empty.\")\n",
    "        return None\n",
    "\n",
    "    # Check if lists are of the same length         \n",
    "    if len(list1) != len(list2):\n",
    "        print(\"Lists must be of the same length\")\n",
    "        return None\n",
    "    \n",
    "    return [a * b for a, b in zip(list1, list2)]\n",
    "\n",
    "# test data, calculations and outputs\n",
    "A = [1, 5, 4, 8]\n",
    "B = [3, 3, 0, 2]\n",
    "M = elementwise_multiply(A, B)\n",
    "print(f\"M = {M}\")  "
   ]
  },
  {
   "cell_type": "markdown",
   "id": "bbca2420",
   "metadata": {},
   "source": [
    "#### Edge test cases:\n",
    "The program says One or both lists are empty if the list is empty. program checks if the lists are the length if not if not it says the lists must be same length. The program runs perfectly even if the list contains negatives, mixed and even both float and integer numbers."
   ]
  },
  {
   "cell_type": "markdown",
   "id": "a19619c5",
   "metadata": {},
   "source": [
    "#### Comment:\n",
    "This program elementwise multiplies the elements of two lists. First, we define the two lists. Then we check if the lists are empty and if empty, it sends output that one or both lists are empty. Then the program checks if the lists are the length if not, it warns the user that both the lists should be the same length. If all the conditions are met, it multiplies the list elements and gives the output."
   ]
  }
 ],
 "metadata": {
  "kernelspec": {
   "display_name": "Python 3",
   "language": "python",
   "name": "python3"
  },
  "language_info": {
   "codemirror_mode": {
    "name": "ipython",
    "version": 3
   },
   "file_extension": ".py",
   "mimetype": "text/x-python",
   "name": "python",
   "nbconvert_exporter": "python",
   "pygments_lexer": "ipython3",
   "version": "3.12.10"
  }
 },
 "nbformat": 4,
 "nbformat_minor": 5
}
