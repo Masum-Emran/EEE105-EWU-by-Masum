{
 "cells": [
  {
   "cell_type": "markdown",
   "id": "c5f28f4f",
   "metadata": {},
   "source": [
    "Post-Lab Activity Report (PAR)\n",
    "\n",
    "Course Code: EEE 105 (Computer Programming) Section: 2\n",
    "\n",
    "Experiment-06 Functions.\n",
    "\n",
    "Submitted by: Masum Emran Bhuyan (2024-3-80-013)\n",
    "\n",
    "Submitted to: MMAI\n",
    "\n",
    "Date: 18 August, 2025\n"
   ]
  },
  {
   "cell_type": "markdown",
   "id": "16ecb5d4",
   "metadata": {},
   "source": [
    "#"
   ]
  },
  {
   "cell_type": "markdown",
   "id": "10149673",
   "metadata": {},
   "source": [
    "#"
   ]
  },
  {
   "cell_type": "markdown",
   "id": "1072b06f",
   "metadata": {},
   "source": [
    "# Problem 1:"
   ]
  },
  {
   "cell_type": "markdown",
   "id": "f604892b",
   "metadata": {},
   "source": [
    "### Test Data#1:"
   ]
  },
  {
   "cell_type": "code",
   "execution_count": 33,
   "id": "126c613e",
   "metadata": {},
   "outputs": [
    {
     "name": "stdout",
     "output_type": "stream",
     "text": [
      "Error!! The score should be within 10.0\n",
      "The maximum score is 10.0\n",
      "The maximum score is 6.0\n",
      "\n",
      "Best CT scores:\n",
      "10.0\n",
      "6.0\n"
     ]
    }
   ],
   "source": [
    "def valid_score_chk(score, M):\n",
    "    \"\"\"Check if a score is valid (not greater than total marks M)\"\"\"\n",
    "    if score > M:\n",
    "        print(f\"Error!! The score should be within {M}\")\n",
    "        return False\n",
    "    return True\n",
    "\n",
    "def getMax(scores):\n",
    "    \"\"\"Return the maximum of three scores\"\"\"\n",
    "    return max(scores)\n",
    "\n",
    "# Initialize parameters\n",
    "N = 2  # Number of students\n",
    "M = 10.0  # Total marks (floating-point)\n",
    "Best_CT = []  # List to store best scores\n",
    "\n",
    "for student in range(1, N+1):\n",
    "    scores = []\n",
    "    \n",
    "    # Get three valid test scores for each student\n",
    "    for ct_num in range(3):\n",
    "        while True:\n",
    "            try:\n",
    "                score = float(input(f\"For student {student}, enter scores of each CT: \"))\n",
    "                if valid_score_chk(score, M):\n",
    "                    scores.append(score)\n",
    "                    break\n",
    "            except ValueError:\n",
    "                print(\"Please enter a valid number\")\n",
    "    \n",
    "    # Get the maximum score for this student\n",
    "    max_score = getMax(scores)\n",
    "    Best_CT.append(max_score)\n",
    "    print(f\"The maximum score is {max_score}\")\n",
    "\n",
    "# Display all best CT scores\n",
    "print(\"\\nBest CT scores:\")\n",
    "for score in Best_CT:\n",
    "    print(score)"
   ]
  },
  {
   "cell_type": "markdown",
   "id": "9824de55",
   "metadata": {},
   "source": [
    "#### Edge test cases:\n",
    "For this program, one important edge case is when a student enters a score equal to the maximum possible score \n",
    "M. This ensures the boundary condition is handled correctly and the program accepts it. Another critical edge case is when the score entered is greater than M. which should trigger the validation error message and prevent adding that score. Similarly, a negative score should also be considered an invalid input since scores should not be negative. Entering a non-integer input causes errors and prompts the user again. Another edge case is when all three scores are the same the maximum is that same value. Finally, when two or more scores are equal and maximum the program should still correctly identify the maximum."
   ]
  },
  {
   "cell_type": "markdown",
   "id": "2d235041",
   "metadata": {},
   "source": [
    "#### Comment:\n",
    "The valid_score_chk() function acts as a holder, verifying whether each entered score falls within the acceptable range (0 to M). When a score exceeds the maximum (M), it displays an error message and rejects the value. The getMax() function serves as the program's decision-maker, analyzing the three validated scores for each student and identifying the highest achievement."
   ]
  },
  {
   "cell_type": "markdown",
   "id": "58c49858",
   "metadata": {},
   "source": [
    " #"
   ]
  },
  {
   "cell_type": "markdown",
   "id": "b9cc56af",
   "metadata": {},
   "source": [
    " #"
   ]
  },
  {
   "cell_type": "markdown",
   "id": "4ff7ba6c",
   "metadata": {},
   "source": [
    "# Problem 2:"
   ]
  },
  {
   "cell_type": "markdown",
   "id": "14df11f1",
   "metadata": {},
   "source": [
    "### Test Data#1:"
   ]
  },
  {
   "cell_type": "code",
   "execution_count": null,
   "id": "7ca9a44f",
   "metadata": {},
   "outputs": [
    {
     "name": "stdout",
     "output_type": "stream",
     "text": [
      "f(x) = 16.0\n"
     ]
    }
   ],
   "source": [
    "#Import math module for mathematical operations\n",
    "import math\n",
    "\n",
    "#Input from the user\n",
    "x = float(input(\"Enter a value for x: \"))\n",
    "\n",
    "#Defining the function f(x)\n",
    "def f(x):\n",
    "    # Checking if the input is a negative number\n",
    "    if x < 0: \n",
    "        return \"Error! Cannot use a negative number\"\n",
    "    #If x is non-negative, calculate the function value\n",
    "    else:\n",
    "        return 5*math.sqrt(x)+(x + 2)**4-3*math.sin(x/5)  \n",
    "    x\n",
    "\n",
    "result = f(x)\n",
    "\n",
    "##Output\n",
    "print(f\"f(x) = {result}\")\n"
   ]
  },
  {
   "cell_type": "markdown",
   "id": "4e0b8281",
   "metadata": {},
   "source": [
    "### Test Data#2:"
   ]
  },
  {
   "cell_type": "code",
   "execution_count": 27,
   "id": "1a7acded",
   "metadata": {},
   "outputs": [
    {
     "name": "stdout",
     "output_type": "stream",
     "text": [
      "f(x) = Error! Cannot use a negative number\n"
     ]
    }
   ],
   "source": [
    "#Import math module for mathematical operations\n",
    "import math\n",
    "\n",
    "#Input from the user\n",
    "x = float(input(\"Enter a value for x: \"))\n",
    "\n",
    "#Defining the function f(x)\n",
    "def f(x):\n",
    "    # Checking if the input is a negative number\n",
    "    if x < 0: \n",
    "        return \"Error! Cannot use a negative number\"\n",
    "    #If x is non-negative, calculate the function value\n",
    "    else:\n",
    "        return 5*math.sqrt(x)+(x + 2)**4-3*math.sin(x/5)  \n",
    "    x\n",
    "\n",
    "result = f(x)\n",
    "\n",
    "##Output\n",
    "print(f\"f(x) = {result}\")\n"
   ]
  },
  {
   "cell_type": "markdown",
   "id": "670b38da",
   "metadata": {},
   "source": [
    "#### Edge test cases:\n",
    "The program can include x = 0, because it checks whether the program correctly handles the square root of zero and produces the expected output. any negative input value since the function must not allow negative numbers and should return the error message \"Error! Cannot use a negative number\". Testing with a very small positive number close to zero ensures the program can handle fractional inputs without crashing. On the opposite end, using a very large number tests whether the program handles large calculations correctly. Alao, using non-integer positive inputs like helps confirm that the program works with floats."
   ]
  },
  {
   "cell_type": "markdown",
   "id": "bd9d1e8a",
   "metadata": {},
   "source": [
    "#### Comment:\n",
    "This code gives the result of a mathematical equation. import math command is used to calculate roots and other mathematical. After defining the function the conditions are added using if else. Thus, perfect output as per the conditions is achieved."
   ]
  },
  {
   "cell_type": "markdown",
   "id": "9aad7698",
   "metadata": {},
   "source": [
    "#   "
   ]
  },
  {
   "cell_type": "markdown",
   "id": "736198ab",
   "metadata": {},
   "source": [
    "#"
   ]
  }
 ],
 "metadata": {
  "kernelspec": {
   "display_name": "Python 3",
   "language": "python",
   "name": "python3"
  },
  "language_info": {
   "codemirror_mode": {
    "name": "ipython",
    "version": 3
   },
   "file_extension": ".py",
   "mimetype": "text/x-python",
   "name": "python",
   "nbconvert_exporter": "python",
   "pygments_lexer": "ipython3",
   "version": "3.12.10"
  }
 },
 "nbformat": 4,
 "nbformat_minor": 5
}
