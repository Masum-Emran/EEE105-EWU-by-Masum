{
 "cells": [
  {
   "cell_type": "markdown",
   "id": "c5f28f4f",
   "metadata": {},
   "source": [
    "Post-Lab Activity Report (PAR)\n",
    "\n",
    "Course Code: EEE 105 (Computer Programming) Section: 2\n",
    "\n",
    "Experiment-03 Basic Program control: Loops.\n",
    "\n",
    "Submitted by: Masum Emran Bhuyan (2024-3-80-013)\n",
    "\n",
    "Submitted to: MMAI\n",
    "\n",
    "Date: 26 July, 2025\n"
   ]
  },
  {
   "cell_type": "markdown",
   "id": "1072b06f",
   "metadata": {},
   "source": [
    "# Problem 1:"
   ]
  },
  {
   "cell_type": "markdown",
   "id": "f604892b",
   "metadata": {},
   "source": [
    "### Test Data#1:"
   ]
  },
  {
   "cell_type": "code",
   "execution_count": 11,
   "id": "fdab487e",
   "metadata": {},
   "outputs": [
    {
     "name": "stdout",
     "output_type": "stream",
     "text": [
      "Looking for leap years between 1898 and 1920 :\n",
      "Leap year: 1904\n",
      "Leap year: 1908\n",
      "Leap year: 1912\n",
      "Leap year: 1916\n",
      "Leap year: 1920\n"
     ]
    }
   ],
   "source": [
    "#input data from user\n",
    "firstyear= int(input(\"Enter starting year:\")) \n",
    "secondyear= int(input(\"Enter ending year:\"))\n",
    "#checking if second year is greater than first year:\n",
    "if secondyear < firstyear:\n",
    "    print(\"Ending year must be greater than starting year.\")\n",
    "\n",
    "#functions and outputs based on conditions\n",
    "else:\n",
    "    print(\"Looking for leap years between\", firstyear, \"and\", secondyear, \":\")\n",
    "    for year in range(firstyear, secondyear + 1):\n",
    "        if year % 4 == 0 and year % 100 != 0:\n",
    "            print(\"Leap year:\", year)\n",
    "        elif year % 400 == 0:\n",
    "            print(\"Leap year:\", year)\n",
    "                 "
   ]
  },
  {
   "cell_type": "markdown",
   "id": "8940e130",
   "metadata": {},
   "source": [
    "### Test Data#2:"
   ]
  },
  {
   "cell_type": "code",
   "execution_count": 12,
   "id": "cddcbe7e",
   "metadata": {},
   "outputs": [
    {
     "name": "stdout",
     "output_type": "stream",
     "text": [
      "Looking for leap years between 1989 and 2010 :\n",
      "Leap year: 1992\n",
      "Leap year: 1996\n",
      "Leap year: 2000\n",
      "Leap year: 2004\n",
      "Leap year: 2008\n"
     ]
    }
   ],
   "source": [
    "#input data from user\n",
    "firstyear= int(input(\"Enter starting year:\")) \n",
    "secondyear= int(input(\"Enter ending year:\"))\n",
    "#checking if second year is greater than first year:\n",
    "if secondyear < firstyear:\n",
    "    print(\"Ending year must be greater than starting year.\")\n",
    "\n",
    "#functions and outputs based on conditions\n",
    "else:\n",
    "    print(\"Looking for leap years between\", firstyear, \"and\", secondyear, \":\")\n",
    "    for year in range(firstyear, secondyear + 1):\n",
    "        if year % 4 == 0 and year % 100 != 0:\n",
    "            print(\"Leap year:\", year)\n",
    "        elif year % 400 == 0:\n",
    "            print(\"Leap year:\", year)    "
   ]
  },
  {
   "cell_type": "markdown",
   "id": "9824de55",
   "metadata": {},
   "source": [
    "#### Edge test cases:\n",
    "If both input years are same, the code will still work and determine if that year is leap year or not. Ending year must be greater than starting year. If input is not a number then it will give value errors. This program can not give right takes for BC or negative numbers. And if there are no leap years between the years, there is no output. Also, if the difference between the years is very big then the program becomes slow.\n",
    " \n"
   ]
  },
  {
   "cell_type": "markdown",
   "id": "2d235041",
   "metadata": {},
   "source": [
    "#### Comment:\n",
    "\"int\" datatype is taken as input because the years must be integers. The second year must be greater than the first year for the program. If not the programs gives an output saying \"Ending year must be greater than starting year.\" For loop is  used to generate numerical sequences and checking speciefic qualities between the numbers in the loop. If this rule is maintained this program looks for the leap yeaers by checking if the inputs are divisible by 4 and not by 100 or divisible by 400, if yes then it is leap year."
   ]
  },
  {
   "cell_type": "markdown",
   "id": "58c49858",
   "metadata": {},
   "source": [
    " #"
   ]
  },
  {
   "cell_type": "markdown",
   "id": "b9cc56af",
   "metadata": {},
   "source": [
    " #"
   ]
  },
  {
   "cell_type": "markdown",
   "id": "4ff7ba6c",
   "metadata": {},
   "source": [
    "# Problem 2:"
   ]
  },
  {
   "cell_type": "markdown",
   "id": "14df11f1",
   "metadata": {},
   "source": [
    "### Test Data#1:"
   ]
  },
  {
   "cell_type": "code",
   "execution_count": 24,
   "id": "7ca9a44f",
   "metadata": {},
   "outputs": [
    {
     "name": "stdout",
     "output_type": "stream",
     "text": [
      "The total capacitance of the series capacitors is: 0.00973709834469328 farads\n"
     ]
    }
   ],
   "source": [
    "#input number of the capacitors and initialize sum of reciprocals of capacitor\n",
    "n = int(input(\"Enter the number of capacitors: \"))\n",
    "reci_sum = 0.0\n",
    "\n",
    "#input capacitor value and know reciprocal sum\n",
    "for i in range(1, n + 1):\n",
    "    c = float(input(f\"Enter the capacitance of capacitor {i} (in farads): \"))\n",
    "    reci_sum += 1 / c\n",
    "\n",
    "#calculate total capacitance\n",
    "if reci_sum != 0:\n",
    "    total_capacitance = 1 / reci_sum\n",
    "    print(f\"The total capacitance of the series capacitors is: {total_capacitance} farads\")\n",
    "else:\n",
    "    print(\"Error: Reciprocal sum is zero, cannot compute total capacitance.\")\n"
   ]
  },
  {
   "cell_type": "markdown",
   "id": "003e2cd3",
   "metadata": {},
   "source": [
    "### Test Data#2:"
   ]
  },
  {
   "cell_type": "code",
   "execution_count": 25,
   "id": "6d5e684d",
   "metadata": {},
   "outputs": [
    {
     "name": "stdout",
     "output_type": "stream",
     "text": [
      "The total capacitance of the series capacitors is: 0.5 farads\n"
     ]
    }
   ],
   "source": [
    "#input number of the capacitors and initialize sum of reciprocals of capacitor\n",
    "n = int(input(\"Enter the number of capacitors: \"))\n",
    "reci_sum = 0.0\n",
    "\n",
    "#input capacitor value and know reciprocal sum\n",
    "for i in range(1, n + 1):\n",
    "    c = float(input(f\"Enter the capacitance of capacitor {i} (in farads): \"))\n",
    "    reci_sum += 1 / c\n",
    "\n",
    "#calculate total capacitance\n",
    "if reci_sum != 0:\n",
    "    total_capacitance = 1 / reci_sum\n",
    "    print(f\"The total capacitance of the series capacitors is: {total_capacitance} farads\")\n",
    "else:\n",
    "    print(\"Capacitance is Zero.\")\n"
   ]
  },
  {
   "cell_type": "markdown",
   "id": "670b38da",
   "metadata": {},
   "source": [
    "#### Edge test cases:\n",
    "If the program gets a zero or negative value for capacitance of capacitors, the program will show value error. If n is too much then the program becomes slow.\n"
   ]
  },
  {
   "cell_type": "markdown",
   "id": "bd9d1e8a",
   "metadata": {},
   "source": [
    "#### Comment:\n",
    "Here the number of capacitor is taken as input using \"int\" datatype. Then it takes that number of inputs as value of the capacitors. The reciprocal sum is set as zero initially. The program takes 1 to our input number of inputs then it sums up the inputs as reciprocals. Then if the recirocal sum is not zero we reciprocate the sum to get the total capacitance as output. If reciprocal sum is zero then there is no capacitance. For loop is  used to generate numerical sequences and checking speciefic qualities between the numbers in the loop"
   ]
  }
 ],
 "metadata": {
  "kernelspec": {
   "display_name": "Python 3",
   "language": "python",
   "name": "python3"
  },
  "language_info": {
   "codemirror_mode": {
    "name": "ipython",
    "version": 3
   },
   "file_extension": ".py",
   "mimetype": "text/x-python",
   "name": "python",
   "nbconvert_exporter": "python",
   "pygments_lexer": "ipython3",
   "version": "3.13.5"
  }
 },
 "nbformat": 4,
 "nbformat_minor": 5
}
