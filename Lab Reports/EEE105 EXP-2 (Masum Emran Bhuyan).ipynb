{
 "cells": [
  {
   "cell_type": "markdown",
   "id": "c5f28f4f",
   "metadata": {},
   "source": [
    "Post-Lab Activity Report (PAR)\n",
    "\n",
    "Course Code: EEE 105 (Computer Programming) Section: 2\n",
    "\n",
    "Experiment-02 Selection statments if, if-else, if-elif-else, Relational operations, Logical operators.\n",
    "\n",
    "Submitted by: Masum Emran Bhuyan (2024-3-80-013)\n",
    "\n",
    "Submitted to: MMAI\n",
    "\n",
    "Date: 19 July, 2025\n"
   ]
  },
  {
   "cell_type": "markdown",
   "id": "1072b06f",
   "metadata": {},
   "source": [
    "# Problem 1:"
   ]
  },
  {
   "cell_type": "markdown",
   "id": "f604892b",
   "metadata": {},
   "source": [
    "### Test Data#1:"
   ]
  },
  {
   "cell_type": "code",
   "execution_count": null,
   "id": "fdab487e",
   "metadata": {},
   "outputs": [
    {
     "name": "stdout",
     "output_type": "stream",
     "text": [
      "Invalid input\n"
     ]
    }
   ],
   "source": [
    "#input data from user\n",
    "\n",
    "Score= float(input(\"Enter your score\"))   \n",
    "\n",
    "#functions and outputs based on conditions\n",
    "\n",
    "if Score > 100 or Score < 0:\n",
    "    print(\"Invalid input\")        \n",
    "elif 80<= Score <=100 :\n",
    "    print(\"Grade: A+\")\n",
    "elif 70<= Score <=79:\n",
    "    print(\"Grade: A\")\n",
    "elif 65<= Score <=69:\n",
    "    print(\"Grade: B+\")\n",
    "elif 60<= Score <=64:\n",
    "    print(\"Grade: B\")\n",
    "elif 40<= Score <=59:\n",
    "    print(\"Grade: C\")\n",
    "else:\n",
    "    print(\"Grade: F\")          "
   ]
  },
  {
   "cell_type": "markdown",
   "id": "8940e130",
   "metadata": {},
   "source": [
    "### Test Data#2:"
   ]
  },
  {
   "cell_type": "code",
   "execution_count": 4,
   "id": "cddcbe7e",
   "metadata": {},
   "outputs": [
    {
     "name": "stdout",
     "output_type": "stream",
     "text": [
      "Grade: B\n"
     ]
    }
   ],
   "source": [
    "#input data from user\n",
    "\n",
    "Score= float(input(\"Enter your score\"))   \n",
    "\n",
    "#functions and outputs based on conditions\n",
    "\n",
    "if Score > 100 or Score < 0:\n",
    "    print(\"Invalid input\")        \n",
    "elif 80<= Score <=100 :\n",
    "    print(\"Grade: A+\")\n",
    "elif 70<= Score <=79:\n",
    "    print(\"Grade: A\")\n",
    "elif 65<= Score <=69:\n",
    "    print(\"Grade: B+\")\n",
    "elif 60<= Score <=64:\n",
    "    print(\"Grade: B\")\n",
    "elif 40<= Score <=59:\n",
    "    print(\"Grade: C\")\n",
    "else:\n",
    "    print(\"Grade: F\")          "
   ]
  },
  {
   "cell_type": "markdown",
   "id": "9824de55",
   "metadata": {},
   "source": [
    "#### Edge test cases:\n",
    "If the score is greater than 100 or less than 0 then it will be an invalid input. and if none of the given conditions are fulfilled, the grade will definitely be F.\n"
   ]
  },
  {
   "cell_type": "markdown",
   "id": "2d235041",
   "metadata": {},
   "source": [
    "#### Comment:\n",
    "\"float\" datatype is taken as input because the scores can be decimal numbers. The program checks if the number exceeds 100 or is less than 0 at first, if yes, it prints \"Invalid input\". If the number is within 0 to 100, the program checks if it satisfies the other conditions and gives an output based on the conditions. If none of the conditions are satisfied, it will grade the score as F. In the program, we used if-else statements for conditional execution, testing if given condition is true or false."
   ]
  },
  {
   "cell_type": "markdown",
   "id": "58c49858",
   "metadata": {},
   "source": [
    " #"
   ]
  },
  {
   "cell_type": "markdown",
   "id": "b9cc56af",
   "metadata": {},
   "source": [
    " #"
   ]
  },
  {
   "cell_type": "markdown",
   "id": "4ff7ba6c",
   "metadata": {},
   "source": [
    "# Problem 2:"
   ]
  },
  {
   "cell_type": "markdown",
   "id": "14df11f1",
   "metadata": {},
   "source": [
    "### Test Data#1:"
   ]
  },
  {
   "cell_type": "code",
   "execution_count": null,
   "id": "7ca9a44f",
   "metadata": {},
   "outputs": [
    {
     "name": "stdout",
     "output_type": "stream",
     "text": [
      "Minimum = -20 Median = 0 Maximum = 10\n"
     ]
    }
   ],
   "source": [
    "#input from the user\n",
    "\n",
    "a = int(input(\"Enter first integer number: \"))\n",
    "b = int(input(\"Enter second integer number: \"))\n",
    "c = int(input(\"Enter third integer number: \"))\n",
    "\n",
    "\n",
    "#finding the minimum, median, and maximum values\n",
    "\n",
    "if a > b and a > c:     #checking if the first number is the maximum value\n",
    "        Maximum = a\n",
    "        if b > c:         #identifing the median and minimum values from the other two numbers\n",
    "            Median = b\n",
    "            Minimum = c\n",
    "        else:\n",
    "            Median = c\n",
    "            Minimum = b\n",
    "elif b > a and b > c:   #checking if the second number is the maximum value\n",
    "        Maximum = b\n",
    "        if a > c:          #identifing the median and minimum values from the other two numbers\n",
    "            Median = a\n",
    "            Minimum = c\n",
    "        else:\n",
    "            Median = c\n",
    "            Minimum = a\n",
    "else: \n",
    "        Maximum = c       #checking if the third number is the maximum value \n",
    "        if a > b:         #identifing the median and minimum values from the other two numbers\n",
    "            Median = a\n",
    "            Minimum = b\n",
    "        else:\n",
    "            Median = b\n",
    "            Minimum = a\n",
    "\n",
    "#Output\n",
    "print(\"Minimum =\", Minimum, \"Median =\", Median, \"Maximum =\", Maximum)\n"
   ]
  },
  {
   "cell_type": "markdown",
   "id": "003e2cd3",
   "metadata": {},
   "source": [
    "### Test Data#2:"
   ]
  },
  {
   "cell_type": "code",
   "execution_count": 12,
   "id": "6d5e684d",
   "metadata": {},
   "outputs": [
    {
     "name": "stdout",
     "output_type": "stream",
     "text": [
      "Minimum = 5 Median = 1220 Maximum = 9100\n"
     ]
    }
   ],
   "source": [
    "#input from the user\n",
    "\n",
    "a = int(input(\"Enter first integer number: \"))\n",
    "b = int(input(\"Enter second integer number: \"))\n",
    "c = int(input(\"Enter third integer number: \"))\n",
    "\n",
    "\n",
    "#finding the minimum, median, and maximum values\n",
    "\n",
    "if a > b and a > c:     #checking if the first number is the maximum value\n",
    "        Maximum = a\n",
    "        if b > c:         #identifing the median and minimum values from the other two numbers\n",
    "            Median = b\n",
    "            Minimum = c\n",
    "        else:\n",
    "            Median = c\n",
    "            Minimum = b\n",
    "elif b > a and b > c:   #checking if the second number is the maximum value\n",
    "        Maximum = b\n",
    "        if a > c:          #identifing the median and minimum values from the other two numbers\n",
    "            Median = a\n",
    "            Minimum = c\n",
    "        else:\n",
    "            Median = c\n",
    "            Minimum = a\n",
    "else: \n",
    "        Maximum = c       #checking if the third number is the maximum value \n",
    "        if a > b:         #identifing the median and minimum values from the other two numbers\n",
    "            Median = a\n",
    "            Minimum = b\n",
    "        else:\n",
    "            Median = b\n",
    "            Minimum = a\n",
    "\n",
    "#Output\n",
    "print(\"Minimum =\", Minimum, \"Median =\", Median, \"Maximum =\", Maximum)\n"
   ]
  },
  {
   "cell_type": "markdown",
   "id": "de650bf7",
   "metadata": {},
   "source": [
    "### Test Data#3:"
   ]
  },
  {
   "cell_type": "code",
   "execution_count": 18,
   "id": "b32fdc2d",
   "metadata": {},
   "outputs": [
    {
     "name": "stdout",
     "output_type": "stream",
     "text": [
      "Minimum = 1 Median = 2 Maximum = 7\n"
     ]
    }
   ],
   "source": [
    "#input from the user\n",
    "\n",
    "a = int(input(\"Enter first integer number: \"))\n",
    "b = int(input(\"Enter second integer number: \"))\n",
    "c = int(input(\"Enter third integer number: \"))\n",
    "\n",
    "\n",
    "#finding the minimum, median, and maximum values\n",
    "\n",
    "if a > b and a > c:     #checking if the first number is the maximum value\n",
    "        Maximum = a\n",
    "        if b > c:         #identifing the median and minimum values from the other two numbers\n",
    "            Median = b\n",
    "            Minimum = c\n",
    "        else:\n",
    "            Median = c\n",
    "            Minimum = b\n",
    "elif b > a and b > c:   #checking if the second number is the maximum value\n",
    "        Maximum = b\n",
    "        if a > c:          #identifing the median and minimum values from the other two numbers\n",
    "            Median = a\n",
    "            Minimum = c\n",
    "        else:\n",
    "            Median = c\n",
    "            Minimum = a\n",
    "else: \n",
    "        Maximum = c       #checking if the third number is the maximum value \n",
    "        if a > b:         #identifing the median and minimum values from the other two numbers\n",
    "            Median = a\n",
    "            Minimum = b\n",
    "        else:\n",
    "            Median = b\n",
    "            Minimum = a\n",
    "\n",
    "#Output\n",
    "print(\"Minimum =\", Minimum, \"Median =\", Median, \"Maximum =\", Maximum)\n"
   ]
  },
  {
   "cell_type": "markdown",
   "id": "670b38da",
   "metadata": {},
   "source": [
    "#### Edge test cases:\n",
    "The inputs must be integer numbers as mentioned. If a decimal number is given, the program will show value error. \n"
   ]
  },
  {
   "cell_type": "markdown",
   "id": "bd9d1e8a",
   "metadata": {},
   "source": [
    "#### Comment:\n",
    "Here three integer numbers are taken as inputs using \"int\" datatype. first it checks if the first number is bigger than both of th rest ones. if true, it is considered the maximum number. Then the program checks between the other two numbers and identifies the median and minimum number. If the first number is not the largest one, the program checks if the second number is the largest and compares between first and last number for median and minimum numbers. If the second number is not the maximum too, the program runs the same operantion for the third number.  In the program, we used if-elif-else statements for conditional execution, testing if given condition is true or false."
   ]
  }
 ],
 "metadata": {
  "kernelspec": {
   "display_name": "Python 3",
   "language": "python",
   "name": "python3"
  },
  "language_info": {
   "codemirror_mode": {
    "name": "ipython",
    "version": 3
   },
   "file_extension": ".py",
   "mimetype": "text/x-python",
   "name": "python",
   "nbconvert_exporter": "python",
   "pygments_lexer": "ipython3",
   "version": "3.13.5"
  }
 },
 "nbformat": 4,
 "nbformat_minor": 5
}
