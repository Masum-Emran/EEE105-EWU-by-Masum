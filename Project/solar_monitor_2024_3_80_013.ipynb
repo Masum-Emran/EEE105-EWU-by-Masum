{
 "cells": [
  {
   "cell_type": "markdown",
   "id": "fcfef3d2",
   "metadata": {},
   "source": [
    "# Project Title : Smart Solar Farm Monitor\n",
    "\n",
    "#### Course Code : EEE 105 (Computer Programming) Section: 2\n",
    "\n",
    "Submitted by: Masum Emran Bhuyan (2024-3-80-013)\n",
    "\n",
    "Submitted to: MMAI\n",
    "Date: 2 September, 2025\n",
    "\n",
    "\n",
    "________________________________________________________________________________________________________________________________________________________________________________"
   ]
  },
  {
   "cell_type": "markdown",
   "id": "2cb458f2",
   "metadata": {},
   "source": [
    "Designated sunlightlist:"
   ]
  },
  {
   "cell_type": "code",
   "execution_count": null,
   "id": "a020add8",
   "metadata": {},
   "outputs": [],
   "source": [
    "#Adding the designated sunlist\n",
    "sunlight = [600, 150, 150, 600, 150, 100, 150, 250, 200, 250]"
   ]
  },
  {
   "cell_type": "markdown",
   "id": "6a80ad25",
   "metadata": {},
   "source": [
    "1. Function: classify_hour:"
   ]
  },
  {
   "cell_type": "code",
   "execution_count": null,
   "id": "0e6dd2d5",
   "metadata": {},
   "outputs": [],
   "source": [
    "def classify_hour(intensity):\n",
    "    \"\"\"Returns (state, power) where state is 'None', 'Partial', 'Full'\"\"\"\n",
    "    #panels don't produce usable power if the intensity is below 200\n",
    "    if intensity <200:\n",
    "        return (\"No generation\", 0)\n",
    "    #output is 70% for the intensities 200 to 800\n",
    "    elif intensity <=800:\n",
    "        power = (0.7 * intensity)\n",
    "        return (\"Partial\", power)\n",
    "    #output is capped at 800\n",
    "    else:\n",
    "        return (\"Full\", 800)\n",
    "    "
   ]
  },
  {
   "cell_type": "markdown",
   "id": "1c4caddd",
   "metadata": {},
   "source": [
    "2. Function: is_dusty_sequence:"
   ]
  },
  {
   "cell_type": "code",
   "execution_count": null,
   "id": "5c7a3511",
   "metadata": {},
   "outputs": [],
   "source": [
    "def is_dusty_sequence(low_count, warning_given):\n",
    "    \"\"\"Returns True if 3+ consecutive low readings and no prior warning\"\"\"\n",
    "    #3 or more consecutive low readings will give warning\n",
    "    if low_count >= 3 and not warning_given: \n",
    "        return True\n",
    "    return False"
   ]
  },
  {
   "cell_type": "markdown",
   "id": "51fbdf16",
   "metadata": {},
   "source": [
    "3. Function: generate_daily_report:"
   ]
  },
  {
   "cell_type": "code",
   "execution_count": null,
   "id": "d04bd483",
   "metadata": {},
   "outputs": [],
   "source": [
    "def generate_daily_report(states, outputs):\n",
    "    \"\"\"Prints: total hours, normal/alerts, avg power, efficiency\"\"\"\n",
    "    #getting the number of readings which is the total number of hours\n",
    "    total_hours = len(states)\n",
    "    #calculating hours with generation and without generation\n",
    "    normal_hours = states.count(\"Partial\") + states.count(\"Full\") \n",
    "    alert_hours = states.count(\"No generation\")\n",
    "\n",
    "    #calculating average power\n",
    "    avg_power = sum(outputs) / total_hours\n",
    "\n",
    "    #getting efficiency base on average power\n",
    "    if avg_power > 560:\n",
    "        efficiency = \"High\"\n",
    "    elif 300 <= avg_power <= 560:\n",
    "        efficiency = \"Medium\"\n",
    "    else:\n",
    "        efficiency = \"Low\"\n",
    "\n",
    "    #printing the daily report\n",
    "    print(\"--- DAILY SUMMARY ---\")\n",
    "    print(f\"Total hours monitored: {total_hours}\")\n",
    "    print(f\"Normal operation: {normal_hours} hours\")\n",
    "    print(f\"Alerts issued: {alert_hours} hours\")\n",
    "    print(f\"Average power output: {avg_power} W\")\n",
    "    print(f\"Efficiency: {efficiency}\")          \n"
   ]
  },
  {
   "cell_type": "markdown",
   "id": "9ed1865d",
   "metadata": {},
   "source": [
    "4. Main Function: monitor_solar_farm:"
   ]
  },
  {
   "cell_type": "code",
   "execution_count": null,
   "id": "10ca6a90",
   "metadata": {},
   "outputs": [],
   "source": [
    "def monitor_solar_farm(sunlight):\n",
    "    \"\"\"Main loop: process data, print output, call report\"\"\"\n",
    "    \n",
    "    states = [] #list to store states for each hour\n",
    "    low_count = 0 #counts consecutive 'No generation' readings\n",
    "    outputs = [] #list to store power output for each hour\n",
    "    warning_given = False #no warning is given if low count requirement doesn't match\n",
    "\n",
    "    for i in range (len(sunlight)):\n",
    "        state, power = classify_hour(sunlight[i])\n",
    "        #using append to add the values in the empty lists\n",
    "        states.append(state) \n",
    "        outputs.append(power)\n",
    "\n",
    "        #getting outputs based on each value in the lists\n",
    "        if state == \"No generation\":\n",
    "            print(\"No generation\")\n",
    "            low_count += 1\n",
    "        elif state == \"Partial\":\n",
    "            print(f\"Partial: {power} W\")\n",
    "        elif state == \"Full\":\n",
    "            print(\"Full: 800 W\")\n",
    "\n",
    "        #chechking for warning requirements\n",
    "        if is_dusty_sequence(low_count, warning_given):\n",
    "            print(\"Dust detected - clean panels!\")\n",
    "            #ensuring the warning is already given\n",
    "            warning_given = True  \n",
    "                             \n",
    "    #getting the output\n",
    "    print(\"Monitoring complete.\")\n",
    "    generate_daily_report(states, outputs)\n",
    "    "
   ]
  },
  {
   "cell_type": "markdown",
   "id": "771f3f81",
   "metadata": {},
   "source": [
    "5. Running the Simulation:"
   ]
  },
  {
   "cell_type": "code",
   "execution_count": null,
   "id": "f52f28f1",
   "metadata": {},
   "outputs": [
    {
     "name": "stdout",
     "output_type": "stream",
     "text": [
      "Partial: 420.0 W\n",
      "No generation\n",
      "No generation\n",
      "Partial: 420.0 W\n",
      "No generation\n",
      "Dust detected - clean panels!\n",
      "No generation\n",
      "No generation\n",
      "Partial: 175.0 W\n",
      "Partial: 140.0 W\n",
      "Partial: 175.0 W\n",
      "Monitoring complete.\n",
      "--- DAILY SUMMARY ---\n",
      "Total hours monitored: 10\n",
      "Normal operation: 5 hours\n",
      "Alerts issued: 5 hours\n",
      "Average power output: 133.0 W\n",
      "Efficiency: Low\n"
     ]
    }
   ],
   "source": [
    "monitor_solar_farm(sunlight)"
   ]
  },
  {
   "cell_type": "markdown",
   "id": "284d5440",
   "metadata": {},
   "source": [
    "6. Explanation:"
   ]
  },
  {
   "cell_type": "markdown",
   "id": "e8d14fac",
   "metadata": {},
   "source": [
    "There can be various reasons for one or two low readings like bad weather, heavy clouds, rain, temporary issues with the system etc. So, we wait for three consecutive low readings instead of triggering the dust warning after just one or two to strongly indicate the actual problem and prevent false alarms. "
   ]
  }
 ],
 "metadata": {
  "kernelspec": {
   "display_name": "Python 3",
   "language": "python",
   "name": "python3"
  },
  "language_info": {
   "codemirror_mode": {
    "name": "ipython",
    "version": 3
   },
   "file_extension": ".py",
   "mimetype": "text/x-python",
   "name": "python",
   "nbconvert_exporter": "python",
   "pygments_lexer": "ipython3",
   "version": "3.12.10"
  }
 },
 "nbformat": 4,
 "nbformat_minor": 5
}
